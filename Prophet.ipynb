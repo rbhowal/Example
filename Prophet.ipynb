{
 "cells": [
  {
   "cell_type": "code",
   "execution_count": null,
   "metadata": {},
   "outputs": [],
   "source": [
    "# df : dataframe consisting 'ds'(timestamp), 'y' and other exogenous variables\n",
    "# future_df : dataframe consisting lagged feature variables for forecast\n",
    "# features : list of features to be included in the model after multicollinearity checks\n",
    "\n",
    "# create an expression instead of including each regressor separately\n",
    "\n",
    "all_fea = [str(\".add_regressor('\") + str(features[i]) + str(\"')\") for i in range(0, len(features))]\n",
    "all_fea = ''.join(all_fea)\n",
    "\n",
    "# No need to put seasonalities separately. Prophet detects the frequency of the data itself\n",
    "# If the frequency is less than daily, then it includes daily & weekly seasonality automatically\n",
    "\n",
    "exp = str(\"Prophet(changepoint_prior_scale = 0.05, changepoint_range=0.8)\") + all_fea + str(\".fit(df)\") \n",
    "\n",
    "# Fit & Predict\n",
    "model_prophet = eval(exp)\n",
    "fcst_all = model_prophet.predict(future_df) # It will contain yhat, trend, seasonalities"
   ]
  }
 ],
 "metadata": {
  "kernelspec": {
   "display_name": "Python 3",
   "language": "python",
   "name": "python3"
  },
  "language_info": {
   "codemirror_mode": {
    "name": "ipython",
    "version": 3
   },
   "file_extension": ".py",
   "mimetype": "text/x-python",
   "name": "python",
   "nbconvert_exporter": "python",
   "pygments_lexer": "ipython3",
   "version": "3.5.6"
  }
 },
 "nbformat": 4,
 "nbformat_minor": 2
}
